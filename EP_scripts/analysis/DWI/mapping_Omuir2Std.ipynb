{
 "cells": [
  {
   "cell_type": "code",
   "execution_count": 1,
   "metadata": {},
   "outputs": [],
   "source": [
    "import numpy as np\n",
    "import nibabel as nib\n",
    "import matplotlib.pyplot as plt"
   ]
  },
  {
   "attachments": {},
   "cell_type": "markdown",
   "metadata": {},
   "source": [
    "Mapping the thresholded tracts from Omuircheartaigh and Jbabdi 2018 to the Talairach atlas\n",
    "\n",
    "Goals:\n",
    "1 Qualify the regions from the Author's ICA with respect to standard regions of interest found in the Talairach atlas.\n",
    "2 Quantify how many voxels from the ICAs are in each of the represented standard ROIs.\n",
    "3 Quantify the proportion of the ROI that is represented by the ICA of interest."
   ]
  },
  {
   "cell_type": "code",
   "execution_count": 2,
   "metadata": {},
   "outputs": [],
   "source": [
    "Talairach_path = '/usr/local/fsl/data/atlases/Talairach/Talairach-labels-2mm.nii.gz'\n",
    "Omuir_path = '/home/corey/atlases/Omuir2018/SupplementaryImages/SI-9-ICsTracts050_MM_2mm.nii.gz' "
   ]
  },
  {
   "cell_type": "code",
   "execution_count": 3,
   "metadata": {},
   "outputs": [],
   "source": [
    "#The difficult part: Establishing which labels of the Talairach atlas are encompassed by the non-zero values of each white matter tract (from ICA)\n",
    "\n",
    "#Create array of values and call unique function to return those encompassed\n",
    "\n",
    "Tal_atlas = nib.load(Talairach_path)\n",
    "Tal_data = Tal_atlas.get_fdata()\n",
    "u_labels = np.unique(Tal_data,return_counts=True)"
   ]
  },
  {
   "cell_type": "code",
   "execution_count": 5,
   "metadata": {},
   "outputs": [],
   "source": [
    "np.set_printoptions(suppress=True)"
   ]
  },
  {
   "cell_type": "code",
   "execution_count": 7,
   "metadata": {},
   "outputs": [
    {
     "data": {
      "text/plain": [
       "True"
      ]
     },
     "execution_count": 7,
     "metadata": {},
     "output_type": "execute_result"
    }
   ],
   "source": [
    "1 == u_labels[0][1]"
   ]
  },
  {
   "attachments": {},
   "cell_type": "markdown",
   "metadata": {},
   "source": [
    "#Isolate voxels that are non-zero in each Omuircheartaigh tract, qualify unique Talairach regions, quantify proportions"
   ]
  },
  {
   "cell_type": "code",
   "execution_count": 9,
   "metadata": {},
   "outputs": [],
   "source": [
    "#Load Omuircheartaigh image:\n",
    "omuir_image = nib.load(Omuir_path)\n",
    "omuir_data = omuir_image.get_fdata()"
   ]
  },
  {
   "cell_type": "code",
   "execution_count": 11,
   "metadata": {},
   "outputs": [],
   "source": [
    "#Number of non-zero value voxels for each Omuircheartaigh ICA\n",
    "omuir_nonzero_counts = []\n",
    "for v in range(0,omuir_data.shape[3]):\n",
    "    count = np.count_nonzero(omuir_data[:,:,:,v])\n",
    "    omuir_nonzero_counts.append(count)"
   ]
  },
  {
   "cell_type": "code",
   "execution_count": 13,
   "metadata": {},
   "outputs": [],
   "source": [
    "tal_flags = []\n",
    "tal_flag_counts = []\n",
    "ICA_proportions = []\n",
    "for v in range(0,omuir_data.shape[3]):\n",
    "    tal_flag = []\n",
    "    for x in range(0,omuir_data.shape[0]):\n",
    "        for y in range(0, omuir_data.shape[1]):\n",
    "            for z in range(0,omuir_data.shape[2]):\n",
    "                if omuir_data[x,y,z,v] != 0 and Tal_data[x,y,z] != 0:\n",
    "                    tal_flag.append(Tal_data[x,y,z])\n",
    "    t_flag = np.unique(tal_flag,return_counts=True)\n",
    "    tal_flags.append(t_flag[0])\n",
    "    tal_flag_counts.append(t_flag[1])\n",
    "    \n",
    "    IC_prop = t_flag[1] / omuir_nonzero_counts[v]\n",
    "    ICA_proportions.append(IC_prop)\n"
   ]
  },
  {
   "attachments": {},
   "cell_type": "markdown",
   "metadata": {},
   "source": [
    "Since there are many (sometimes hundreds) of ROIs in each ICA, and the majority of the ROIs in each ICA constitute a small proportion of the ICA (often < 1%), we should sort by the ROIs that comprise the largest proportions of the ICAs and that make up no less than 10% of the ICA"
   ]
  },
  {
   "cell_type": "code",
   "execution_count": 17,
   "metadata": {},
   "outputs": [],
   "source": [
    "coupled_flags_and_proportions = [tal_flags,ICA_proportions]"
   ]
  },
  {
   "cell_type": "code",
   "execution_count": 20,
   "metadata": {},
   "outputs": [],
   "source": [
    "cfp = tuple(coupled_flags_and_proportions)"
   ]
  },
  {
   "cell_type": "code",
   "execution_count": 41,
   "metadata": {},
   "outputs": [],
   "source": [
    "sorted_flags = []\n",
    "sorted_props = []\n",
    "for v in range(0,50):\n",
    "    tal_flag_vlist = tal_flags[v].tolist()\n",
    "    ic_prop_vlist = ICA_proportions[v].tolist()\n",
    "\n",
    "    list1, list2 = zip(*sorted(zip(ic_prop_vlist,tal_flag_vlist),reverse=True))\n",
    "    sorted_flags.append(list2)\n",
    "    sorted_props.append(list1)"
   ]
  },
  {
   "cell_type": "code",
   "execution_count": 42,
   "metadata": {},
   "outputs": [
    {
     "name": "stdout",
     "output_type": "stream",
     "text": [
      "(39.0, 24.0, 51.0)\n",
      "(0.10910698496905394, 0.09024462127910404, 0.06224580017683466, 0.04921898025346301, 0.04385499557913351, 0.03660477453580902, 0.026348364279398764, 0.021750663129973476, 0.019982316534040673, 0.019805481874447393, 0.018626584143825523, 0.016091954022988506, 0.01479516651930445, 0.013616268788682582, 0.012614205717653993, 0.011081638667845565, 0.009666961391099321, 0.00842911877394636, 0.007014441497200118, 0.006483937518420277, 0.005658709106984969, 0.005481874447391689, 0.005481874447391689, 0.0050103153551429415, 0.004244031830238726, 0.004185086943707633, 0.00412614205717654, 0.004067197170645446, 0.0032419687592101384, 0.0031240789861479517, 0.0030651340996168583, 0.0030651340996168583, 0.003006189213085765, 0.002770409666961391, 0.002652519893899204, 0.0025935750073681108, 0.002475685234305924, 0.0024167403477748303, 0.0024167403477748303, 0.0024167403477748303, 0.0022988505747126436, 0.0022988505747126436, 0.002180960801650457, 0.002122015915119363, 0.002122015915119363, 0.0020041261420571765, 0.0020041261420571765, 0.0020041261420571765, 0.0018862363689949896, 0.0015915119363395225, 0.0015325670498084292, 0.0015325670498084292, 0.0014736221632773356, 0.0014736221632773356, 0.0012967875036840554, 0.001237842617152962, 0.001237842617152962, 0.0011788977306218685, 0.0011199528440907752, 0.0011199528440907752, 0.0011199528440907752, 0.0011199528440907752, 0.0011199528440907752, 0.0010610079575596816, 0.0010610079575596816, 0.0010610079575596816, 0.0010610079575596816, 0.0010020630710285883, 0.0008841732979664014, 0.000825228411435308, 0.000825228411435308, 0.0007073386383731211, 0.0007073386383731211, 0.0007073386383731211, 0.0007073386383731211, 0.0006483937518420277, 0.0006483937518420277, 0.0006483937518420277, 0.0006483937518420277, 0.0006483937518420277, 0.0005894488653109342, 0.0005894488653109342, 0.0005894488653109342, 0.0005894488653109342, 0.0005894488653109342, 0.0005894488653109342, 0.0005894488653109342, 0.0005305039787798408, 0.0005305039787798408, 0.0005305039787798408, 0.0005305039787798408, 0.0005305039787798408, 0.0005305039787798408, 0.0005305039787798408, 0.0004715590922487474, 0.0004715590922487474, 0.0004715590922487474, 0.000412614205717654, 0.000412614205717654, 0.00035366931918656057, 0.00035366931918656057, 0.00035366931918656057, 0.0002947244326554671, 0.0002947244326554671, 0.0002947244326554671, 0.0002357795461243737, 0.0002357795461243737, 0.0002357795461243737, 0.0002357795461243737, 0.0002357795461243737, 0.0002357795461243737, 0.0002357795461243737, 0.0002357795461243737, 0.00017683465959328028, 0.00017683465959328028, 0.00017683465959328028, 0.00017683465959328028, 0.00017683465959328028, 0.00017683465959328028, 0.00017683465959328028, 0.00017683465959328028, 0.00017683465959328028, 0.00017683465959328028, 0.00011788977306218685, 0.00011788977306218685, 0.00011788977306218685, 0.00011788977306218685, 0.00011788977306218685, 0.00011788977306218685, 0.00011788977306218685, 0.00011788977306218685, 0.00011788977306218685, 0.00011788977306218685, 0.00011788977306218685, 0.00011788977306218685, 0.00011788977306218685, 0.00011788977306218685, 0.00011788977306218685, 0.00011788977306218685, 0.00011788977306218685, 5.8944886531093426e-05, 5.8944886531093426e-05, 5.8944886531093426e-05, 5.8944886531093426e-05, 5.8944886531093426e-05, 5.8944886531093426e-05, 5.8944886531093426e-05, 5.8944886531093426e-05, 5.8944886531093426e-05, 5.8944886531093426e-05, 5.8944886531093426e-05, 5.8944886531093426e-05)\n"
     ]
    }
   ],
   "source": [
    "print(sorted_flags[48][0:3])\n",
    "print(sorted_props[48])"
   ]
  },
  {
   "cell_type": "code",
   "execution_count": 47,
   "metadata": {},
   "outputs": [],
   "source": [
    "TOP_flags_and_props = []\n",
    "only_flags = []\n",
    "for v in range(0,50):\n",
    "    top_flags = sorted_flags[v][0:3]\n",
    "    top_props = sorted_props[v][0:3]\n",
    "    top_together = (top_flags,top_props)\n",
    "    TOP_flags_and_props.append(top_together)\n",
    "    only_flags.append(top_flags)"
   ]
  },
  {
   "cell_type": "code",
   "execution_count": 48,
   "metadata": {},
   "outputs": [
    {
     "data": {
      "text/plain": [
       "[(133.0, 173.0, 51.0),\n",
       " (485.0, 88.0, 51.0),\n",
       " (347.0, 51.0, 485.0),\n",
       " (879.0, 878.0, 784.0),\n",
       " (195.0, 193.0, 155.0),\n",
       " (51.0, 157.0, 252.0),\n",
       " (4.0, 687.0, 194.0),\n",
       " (796.0, 879.0, 878.0),\n",
       " (193.0, 194.0, 195.0),\n",
       " (24.0, 51.0, 39.0),\n",
       " (309.0, 52.0, 486.0),\n",
       " (798.0, 194.0, 880.0),\n",
       " (860.0, 864.0, 968.0),\n",
       " (798.0, 786.0, 881.0),\n",
       " (347.0, 439.0, 39.0),\n",
       " (193.0, 347.0, 195.0),\n",
       " (134.0, 174.0, 664.0),\n",
       " (194.0, 687.0, 196.0),\n",
       " (685.0, 193.0, 784.0),\n",
       " (194.0, 196.0, 28.0),\n",
       " (922.0, 972.0, 107.0),\n",
       " (194.0, 348.0, 156.0),\n",
       " (230.0, 231.0, 107.0),\n",
       " (348.0, 231.0, 156.0),\n",
       " (193.0, 194.0, 687.0),\n",
       " (193.0, 685.0, 682.0),\n",
       " (28.0, 42.0, 52.0),\n",
       " (348.0, 4.0, 89.0),\n",
       " (89.0, 486.0, 253.0),\n",
       " (42.0, 52.0, 28.0),\n",
       " (309.0, 52.0, 158.0),\n",
       " (52.0, 253.0, 28.0),\n",
       " (860.0, 51.0, 308.0),\n",
       " (196.0, 156.0, 194.0),\n",
       " (921.0, 230.0, 860.0),\n",
       " (348.0, 190.0, 194.0),\n",
       " (195.0, 193.0, 51.0),\n",
       " (798.0, 879.0, 796.0),\n",
       " (193.0, 347.0, 155.0),\n",
       " (193.0, 194.0, 347.0),\n",
       " (864.0, 52.0, 309.0),\n",
       " (51.0, 308.0, 485.0),\n",
       " (189.0, 347.0, 193.0),\n",
       " (52.0, 28.0, 194.0),\n",
       " (348.0, 42.0, 441.0),\n",
       " (922.0, 107.0, 374.0),\n",
       " (921.0, 107.0, 371.0),\n",
       " (51.0, 157.0, 24.0),\n",
       " (39.0, 24.0, 51.0),\n",
       " (39.0, 51.0, 347.0)]"
      ]
     },
     "execution_count": 48,
     "metadata": {},
     "output_type": "execute_result"
    }
   ],
   "source": [
    "only_flags"
   ]
  },
  {
   "cell_type": "code",
   "execution_count": 44,
   "metadata": {},
   "outputs": [
    {
     "data": {
      "text/plain": [
       "(133.0, 173.0, 51.0)"
      ]
     },
     "execution_count": 44,
     "metadata": {},
     "output_type": "execute_result"
    }
   ],
   "source": [
    "TOP_flags_and_props[0][0]"
   ]
  },
  {
   "attachments": {},
   "cell_type": "markdown",
   "metadata": {},
   "source": [
    "Automate reading of html file mapping Talairach labels to region names\n",
    "\n",
    "Calculate proportion of each Talairach region represented by voxels from the ICA where it spans that region"
   ]
  }
 ],
 "metadata": {
  "kernelspec": {
   "display_name": "thesis-env",
   "language": "python",
   "name": "python3"
  },
  "language_info": {
   "codemirror_mode": {
    "name": "ipython",
    "version": 3
   },
   "file_extension": ".py",
   "mimetype": "text/x-python",
   "name": "python",
   "nbconvert_exporter": "python",
   "pygments_lexer": "ipython3",
   "version": "3.11.2"
  },
  "orig_nbformat": 4
 },
 "nbformat": 4,
 "nbformat_minor": 2
}
