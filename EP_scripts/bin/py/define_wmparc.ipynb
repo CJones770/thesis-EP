{
 "cells": [
  {
   "cell_type": "code",
   "execution_count": 3,
   "metadata": {},
   "outputs": [],
   "source": [
    "import nibabel as nib\n",
    "from nibabel import processing as prc\n",
    "import numpy as np\n",
    "import os"
   ]
  },
  {
   "cell_type": "code",
   "execution_count": null,
   "metadata": {},
   "outputs": [],
   "source": [
    "subjectlist = open('/media/corey/4TB-WDBlue/data-thesis/subject_list_full.txt')\n",
    "sublist = subjectlist.readlines()\n",
    "\n",
    "for n, sub in enumerate(sublist):\n",
    "    sub = sub.strip()\n",
    "    print(n, sub)\n",
    "    wmparc = nib.load('/media/corey/My_Passport/DATA/fMRI/ext_data/EP_FunctionalPreprocessing/%s_01_MR/MNINonLinear/wmparc.nii.gz' %sub)\n",
    "    wmparc_data = wmparc.get_fdata()\n",
    "    affine = wmparc.affine\n",
    "    if os.path.exists('/media/corey/My_Passport/DATA/fMRI/ext_data/EP_FunctionalPreprocessing/%s_01_MR/rfMRI_REST1_PA/'):\n",
    "        epi_ts = nib.load('/media/corey/My_Passport/DATA/fMRI/ext_data/EP_FunctionalPreprocessing/%s_01_MR/MNINonLinear/Results/rfMRI_REST1_PA/rfMRI_REST1_PA.nii.gz' %sub)\n",
    "        epi_ts_data = epi_ts.get_fdata()\n",
    "        epi_mask = nib.load('/media/corey/My_Passport/DATA/fMRI/ext_data/EP_FunctionalPreprocessing/%s_01_MR/MNINonLinear/Results/rfMRI_REST1_PA/rfMRI_REST1_PA_finalmask.nii.gz' %sub)\n",
    "    if os.path.exists('/media/corey/My_Passport/DATA/fMRI/ext_data/EP_FunctionalPreprocessing/%s_01_MR/rfMRI_REST2_PA/'):\n",
    "        epi_ts = nib.load('/media/corey/My_Passport/DATA/fMRI/ext_data/EP_FunctionalPreprocessing/%s_01_MR/MNINonLinear/Results/rfMRI_REST2_PA/rfMRI_REST2_PA' %sub)\n",
    "        epi_ts_data = epi_ts.get_fdata()\n",
    "        epi_mask = nib.load('/media/corey/My_Passport/DATA/fMRI/ext_data/EP_FunctionalPreprocessing/%s_01_MR/MNINonLinear/Results/rfMRI_REST2_PA/rfMRI_REST2_PA_finalmask.nii.gz' %sub)\n",
    "    \n",
    "#Generate mask and resample to MNI152 2mm space (to match epi time series)\n",
    "    wm_mask = np.zeros_like(wmparc_data)\n",
    "\n",
    "    for x in range(0,wm_mask.shape[0]-1):\n",
    "        for y in range(0,wm_mask.shape[1]-1):\n",
    "            for z in range(0,wm_mask.shape[2]-1):\n",
    "                if wmparc_data[x,y,z] >= 3000:\n",
    "                    wm_mask[x,y,z] = 1\n",
    "    wm_mask_nifti = nib.Nifti1Image(wm_mask,affine)\n",
    "\n",
    "    resampled_wm_mask = prc.resample_from_to(wm_mask_nifti,epi_mask,order=0)\n",
    "    nib.save(resampled_wm_mask,'/media/corey/My_Passport/DATA/fMRI/ext_data/EP_FunctionalPreprocessing/%s_01_MR/resampled_wm_mask.nii.gz' %sub)"
   ]
  }
 ],
 "metadata": {
  "kernelspec": {
   "display_name": "thesis-env",
   "language": "python",
   "name": "python3"
  },
  "language_info": {
   "codemirror_mode": {
    "name": "ipython",
    "version": 3
   },
   "file_extension": ".py",
   "mimetype": "text/x-python",
   "name": "python",
   "nbconvert_exporter": "python",
   "pygments_lexer": "ipython3",
   "version": "3.11.2"
  },
  "orig_nbformat": 4
 },
 "nbformat": 4,
 "nbformat_minor": 2
}
